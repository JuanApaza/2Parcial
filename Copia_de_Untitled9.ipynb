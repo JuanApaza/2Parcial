{
  "nbformat": 4,
  "nbformat_minor": 0,
  "metadata": {
    "colab": {
      "name": "Copia de Untitled9.ipynb",
      "provenance": [],
      "authorship_tag": "ABX9TyOPhrP992V7YSphGemdA5Qv",
      "include_colab_link": true
    },
    "kernelspec": {
      "name": "python3",
      "display_name": "Python 3"
    },
    "language_info": {
      "name": "python"
    }
  },
  "cells": [
    {
      "cell_type": "markdown",
      "metadata": {
        "id": "view-in-github",
        "colab_type": "text"
      },
      "source": [
        "<a href=\"https://colab.research.google.com/github/JuanApaza/2Parcial/blob/main/Copia_de_Untitled9.ipynb\" target=\"_parent\"><img src=\"https://colab.research.google.com/assets/colab-badge.svg\" alt=\"Open In Colab\"/></a>"
      ]
    },
    {
      "cell_type": "markdown",
      "metadata": {
        "id": "BIRe3uCA_-Kg"
      },
      "source": [
        "# **PROYECTO DE RECONOCIMIENTO DE CARACTERES**\n",
        "\n",
        "\n",
        "---\n",
        "\n"
      ]
    },
    {
      "cell_type": "code",
      "metadata": {
        "colab": {
          "base_uri": "https://localhost:8080/",
          "height": 203
        },
        "id": "vrIiFq5u6VDW",
        "outputId": "c25b6ea6-8fe3-4626-cadc-4836099ae5d4"
      },
      "source": [
        "import pandas as pd\n",
        "\n",
        "df = pd.read_csv(\n",
        "    \"https://raw.githubusercontent.com/jdvelasq/datalabs/master/datasets/letterdata.csv\"\n",
        ")\n",
        "\n",
        "df.head()\n"
      ],
      "execution_count": null,
      "outputs": [
        {
          "output_type": "execute_result",
          "data": {
            "text/html": [
              "<div>\n",
              "<style scoped>\n",
              "    .dataframe tbody tr th:only-of-type {\n",
              "        vertical-align: middle;\n",
              "    }\n",
              "\n",
              "    .dataframe tbody tr th {\n",
              "        vertical-align: top;\n",
              "    }\n",
              "\n",
              "    .dataframe thead th {\n",
              "        text-align: right;\n",
              "    }\n",
              "</style>\n",
              "<table border=\"1\" class=\"dataframe\">\n",
              "  <thead>\n",
              "    <tr style=\"text-align: right;\">\n",
              "      <th></th>\n",
              "      <th>letter</th>\n",
              "      <th>xbox</th>\n",
              "      <th>ybox</th>\n",
              "      <th>width</th>\n",
              "      <th>height</th>\n",
              "      <th>onpix</th>\n",
              "      <th>xbar</th>\n",
              "      <th>ybar</th>\n",
              "      <th>x2bar</th>\n",
              "      <th>y2bar</th>\n",
              "      <th>xybar</th>\n",
              "      <th>x2ybar</th>\n",
              "      <th>xy2bar</th>\n",
              "      <th>xedge</th>\n",
              "      <th>xedgey</th>\n",
              "      <th>yedge</th>\n",
              "      <th>yedgex</th>\n",
              "    </tr>\n",
              "  </thead>\n",
              "  <tbody>\n",
              "    <tr>\n",
              "      <th>0</th>\n",
              "      <td>T</td>\n",
              "      <td>2</td>\n",
              "      <td>8</td>\n",
              "      <td>3</td>\n",
              "      <td>5</td>\n",
              "      <td>1</td>\n",
              "      <td>8</td>\n",
              "      <td>13</td>\n",
              "      <td>0</td>\n",
              "      <td>6</td>\n",
              "      <td>6</td>\n",
              "      <td>10</td>\n",
              "      <td>8</td>\n",
              "      <td>0</td>\n",
              "      <td>8</td>\n",
              "      <td>0</td>\n",
              "      <td>8</td>\n",
              "    </tr>\n",
              "    <tr>\n",
              "      <th>1</th>\n",
              "      <td>I</td>\n",
              "      <td>5</td>\n",
              "      <td>12</td>\n",
              "      <td>3</td>\n",
              "      <td>7</td>\n",
              "      <td>2</td>\n",
              "      <td>10</td>\n",
              "      <td>5</td>\n",
              "      <td>5</td>\n",
              "      <td>4</td>\n",
              "      <td>13</td>\n",
              "      <td>3</td>\n",
              "      <td>9</td>\n",
              "      <td>2</td>\n",
              "      <td>8</td>\n",
              "      <td>4</td>\n",
              "      <td>10</td>\n",
              "    </tr>\n",
              "    <tr>\n",
              "      <th>2</th>\n",
              "      <td>D</td>\n",
              "      <td>4</td>\n",
              "      <td>11</td>\n",
              "      <td>6</td>\n",
              "      <td>8</td>\n",
              "      <td>6</td>\n",
              "      <td>10</td>\n",
              "      <td>6</td>\n",
              "      <td>2</td>\n",
              "      <td>6</td>\n",
              "      <td>10</td>\n",
              "      <td>3</td>\n",
              "      <td>7</td>\n",
              "      <td>3</td>\n",
              "      <td>7</td>\n",
              "      <td>3</td>\n",
              "      <td>9</td>\n",
              "    </tr>\n",
              "    <tr>\n",
              "      <th>3</th>\n",
              "      <td>N</td>\n",
              "      <td>7</td>\n",
              "      <td>11</td>\n",
              "      <td>6</td>\n",
              "      <td>6</td>\n",
              "      <td>3</td>\n",
              "      <td>5</td>\n",
              "      <td>9</td>\n",
              "      <td>4</td>\n",
              "      <td>6</td>\n",
              "      <td>4</td>\n",
              "      <td>4</td>\n",
              "      <td>10</td>\n",
              "      <td>6</td>\n",
              "      <td>10</td>\n",
              "      <td>2</td>\n",
              "      <td>8</td>\n",
              "    </tr>\n",
              "    <tr>\n",
              "      <th>4</th>\n",
              "      <td>G</td>\n",
              "      <td>2</td>\n",
              "      <td>1</td>\n",
              "      <td>3</td>\n",
              "      <td>1</td>\n",
              "      <td>1</td>\n",
              "      <td>8</td>\n",
              "      <td>6</td>\n",
              "      <td>6</td>\n",
              "      <td>6</td>\n",
              "      <td>6</td>\n",
              "      <td>5</td>\n",
              "      <td>9</td>\n",
              "      <td>1</td>\n",
              "      <td>7</td>\n",
              "      <td>5</td>\n",
              "      <td>10</td>\n",
              "    </tr>\n",
              "  </tbody>\n",
              "</table>\n",
              "</div>"
            ],
            "text/plain": [
              "  letter  xbox  ybox  width  height  ...  xy2bar  xedge  xedgey  yedge  yedgex\n",
              "0      T     2     8      3       5  ...       8      0       8      0       8\n",
              "1      I     5    12      3       7  ...       9      2       8      4      10\n",
              "2      D     4    11      6       8  ...       7      3       7      3       9\n",
              "3      N     7    11      6       6  ...      10      6      10      2       8\n",
              "4      G     2     1      3       1  ...       9      1       7      5      10\n",
              "\n",
              "[5 rows x 17 columns]"
            ]
          },
          "metadata": {},
          "execution_count": 4
        }
      ]
    },
    {
      "cell_type": "markdown",
      "metadata": {
        "id": "Dn7HwUTT8EyP"
      },
      "source": [
        "# **Verificar tamaño del dataset**"
      ]
    },
    {
      "cell_type": "code",
      "metadata": {
        "colab": {
          "base_uri": "https://localhost:8080/"
        },
        "id": "8Aem_Nev8AXa",
        "outputId": "10dd9677-1519-44f3-803c-208eff16dfa2"
      },
      "source": [
        "df.shape"
      ],
      "execution_count": null,
      "outputs": [
        {
          "output_type": "execute_result",
          "data": {
            "text/plain": [
              "(20000, 17)"
            ]
          },
          "metadata": {},
          "execution_count": 5
        }
      ]
    },
    {
      "cell_type": "markdown",
      "metadata": {
        "id": "cIaSoAn48bsg"
      },
      "source": [
        "# **Entrenamiento del modelo**"
      ]
    },
    {
      "cell_type": "code",
      "metadata": {
        "colab": {
          "base_uri": "https://localhost:8080/"
        },
        "id": "l5yEquYe8gSv",
        "outputId": "d808e7d9-de4b-4999-d806-e91e4df779ab"
      },
      "source": [
        "df.index"
      ],
      "execution_count": null,
      "outputs": [
        {
          "output_type": "execute_result",
          "data": {
            "text/plain": [
              "RangeIndex(start=0, stop=20000, step=1)"
            ]
          },
          "metadata": {},
          "execution_count": 6
        }
      ]
    },
    {
      "cell_type": "code",
      "metadata": {
        "id": "dfrAdK4f8qnR"
      },
      "source": [
        "df_train=df[0:16000]\n",
        "df_test=df[16000:]"
      ],
      "execution_count": null,
      "outputs": []
    },
    {
      "cell_type": "code",
      "metadata": {
        "id": "kji4uWIz9s3Q"
      },
      "source": [
        "from sklearn.svm import SVC\n",
        "\n",
        "clf = SVC(kernel=\"linear\")"
      ],
      "execution_count": null,
      "outputs": []
    },
    {
      "cell_type": "code",
      "metadata": {
        "colab": {
          "base_uri": "https://localhost:8080/"
        },
        "id": "MRjCDv5u9utQ",
        "outputId": "80d55ce3-06c3-4c11-ea7e-e98f3c8e821e"
      },
      "source": [
        "clf.fit(df_train[df.columns[1:]], df_train[\"letter\"].ravel())"
      ],
      "execution_count": null,
      "outputs": [
        {
          "output_type": "execute_result",
          "data": {
            "text/plain": [
              "SVC(kernel='linear')"
            ]
          },
          "metadata": {},
          "execution_count": 12
        }
      ]
    },
    {
      "cell_type": "markdown",
      "metadata": {
        "id": "VsRXCe---Ala"
      },
      "source": [
        "# **Resultados**"
      ]
    },
    {
      "cell_type": "code",
      "metadata": {
        "colab": {
          "base_uri": "https://localhost:8080/"
        },
        "id": "HKPP-pLF9_Xo",
        "outputId": "f0d94009-8a64-49a8-9a1c-984bda27d955"
      },
      "source": [
        "y_test = clf.predict(df_test[df.columns[1:]])\n",
        "\n",
        "y_test[0:10]"
      ],
      "execution_count": null,
      "outputs": [
        {
          "output_type": "execute_result",
          "data": {
            "text/plain": [
              "array(['U', 'N', 'V', 'I', 'N', 'H', 'E', 'Y', 'G', 'E'], dtype=object)"
            ]
          },
          "metadata": {},
          "execution_count": 14
        }
      ]
    },
    {
      "cell_type": "code",
      "metadata": {
        "id": "93Cz_Zp0-sNP"
      },
      "source": [
        "df[16000:16010]"
      ],
      "execution_count": null,
      "outputs": []
    },
    {
      "cell_type": "markdown",
      "metadata": {
        "id": "WnIppRu4_I_x"
      },
      "source": [
        "# **Evaluacion**"
      ]
    },
    {
      "cell_type": "code",
      "metadata": {
        "colab": {
          "base_uri": "https://localhost:8080/"
        },
        "id": "Tg4u5zmJ_N_Q",
        "outputId": "1d4ee0ce-d576-410e-a789-63b6ff6988c9"
      },
      "source": [
        "from sklearn import metrics\n",
        "\n",
        "metrics.confusion_matrix(y_test, df_test[\"letter\"].ravel())"
      ],
      "execution_count": null,
      "outputs": [
        {
          "output_type": "execute_result",
          "data": {
            "text/plain": [
              "array([[144,   0,   0,   0,   0,   1,   0,   0,   0,   1,   0,   0,   0,\n",
              "          1,   2,   0,   5,   0,   1,   1,   1,   0,   1,   0,   0,   0],\n",
              "       [  0, 121,   0,   5,   2,   0,   2,   2,   0,   0,   1,   1,   2,\n",
              "          0,   0,   2,   2,   5,   3,   0,   0,   2,   0,   1,   0,   0],\n",
              "       [  0,   0, 121,   0,   5,   1,  11,   1,   1,   0,   1,   3,   0,\n",
              "          0,   3,   0,   1,   0,   0,   0,   0,   0,   0,   0,   0,   0],\n",
              "       [  1,   2,   0, 156,   0,   0,   2,   9,   4,   3,   4,   2,   0,\n",
              "          6,   5,   3,   1,   3,   0,   0,   0,   0,   0,   2,   3,   0],\n",
              "       [  0,   0,   5,   0, 126,   2,   1,   0,   0,   0,   3,   5,   0,\n",
              "          0,   0,   0,   2,   0,   9,   1,   0,   0,   0,   1,   0,   3],\n",
              "       [  0,   0,   0,   0,   0, 137,   2,   3,   6,   0,   0,   0,   0,\n",
              "          0,   0,  16,   0,   0,   5,   2,   0,   2,   0,   2,   2,   0],\n",
              "       [  1,   1,   2,   1,   9,   1, 123,   3,   0,   0,   0,   2,   1,\n",
              "          0,   1,   2,   8,   1,   4,   2,   1,   0,   0,   2,   0,   0],\n",
              "       [  0,   1,   0,   1,   0,   0,   1, 106,   0,   2,   2,   2,   2,\n",
              "          5,  20,   0,   2,   3,   0,   3,   0,   2,   0,   0,   1,   0],\n",
              "       [  0,   1,   0,   0,   0,   1,   0,   0, 141,   8,   0,   0,   0,\n",
              "          0,   0,   1,   0,   0,   2,   0,   0,   0,   0,   6,   1,   1],\n",
              "       [  0,   1,   0,   0,   0,   2,   0,   1,   7, 128,   0,   0,   0,\n",
              "          0,   2,   1,   4,   0,   1,   0,   0,   0,   0,   1,   0,   6],\n",
              "       [  1,   1,   8,   0,   0,   0,   2,   5,   0,   0, 121,   0,   0,\n",
              "          2,   0,   1,   0,   8,   0,   1,   2,   0,   0,   7,   0,   0],\n",
              "       [  0,   0,   0,   0,   2,   0,   1,   0,   1,   0,   0, 132,   0,\n",
              "          0,   0,   0,   0,   0,   3,   0,   0,   0,   0,   1,   0,   1],\n",
              "       [  1,   0,   1,   0,   0,   0,   1,   2,   0,   0,   0,   0, 137,\n",
              "          4,   0,   0,   0,   0,   0,   0,   3,   0,   8,   0,   1,   0],\n",
              "       [  0,   0,   0,   0,   0,   1,   0,   1,   0,   0,   0,   0,   0,\n",
              "        143,   0,   0,   0,   3,   0,   0,   1,   0,   2,   0,   0,   0],\n",
              "       [  0,   0,   1,   1,   0,   0,   0,   2,   0,   1,   1,   0,   0,\n",
              "          1,  98,   2,   3,   1,   0,   0,   4,   0,   0,   0,   0,   0],\n",
              "       [  0,   0,   0,   1,   0,   2,   1,   0,   0,   0,   0,   0,   0,\n",
              "          0,   2, 132,   0,   0,   0,   0,   0,   0,   0,   0,   1,   0],\n",
              "       [  0,   0,   0,   0,   1,   0,   7,   2,   0,   0,   0,   4,   0,\n",
              "          0,   3,   1, 123,   1,   5,   0,   0,   0,   0,   0,   4,   0],\n",
              "       [  1,   6,   0,   0,   1,   0,   2,   7,   0,   0,  11,   0,   0,\n",
              "          1,   1,   1,   1, 135,   0,   1,   0,   1,   0,   0,   0,   0],\n",
              "       [  1,   1,   0,   0,   1,   0,   3,   0,   1,   1,   0,   1,   0,\n",
              "          0,   0,   0,  14,   0, 106,   3,   0,   0,   0,   1,   0,  10],\n",
              "       [  0,   0,   0,   0,   2,   3,   0,   0,   0,   0,   0,   0,   0,\n",
              "          0,   0,   0,   0,   0,   2, 132,   1,   0,   0,   1,   2,   2],\n",
              "       [  1,   0,   4,   2,   0,   0,   0,   2,   0,   0,   0,   0,   0,\n",
              "          0,   0,   0,   0,   0,   0,   0, 151,   0,   0,   0,   0,   0],\n",
              "       [  0,   0,   0,   0,   0,   0,   3,   2,   0,   0,   0,   0,   0,\n",
              "          2,   1,   0,   2,   1,   0,   0,   0, 125,   2,   0,   3,   0],\n",
              "       [  0,   0,   0,   0,   0,   0,   2,   0,   0,   0,   0,   0,   2,\n",
              "          0,   0,   1,   0,   0,   0,   0,   4,   4, 126,   0,   0,   0],\n",
              "       [  0,   1,   0,   0,   2,   0,   0,   2,   2,   0,   2,   5,   0,\n",
              "          0,   1,   0,   0,   0,   2,   0,   0,   0,   0, 134,   1,   3],\n",
              "       [  3,   0,   0,   0,   0,   2,   0,   1,   0,   0,   0,   0,   0,\n",
              "          1,   0,   5,   0,   0,   0,   3,   0,   0,   0,   0, 126,   0],\n",
              "       [  2,   0,   0,   0,   1,   0,   0,   0,   2,   4,   0,   0,   0,\n",
              "          0,   0,   0,   0,   0,  18,   2,   0,   0,   0,   0,   0, 132]])"
            ]
          },
          "metadata": {},
          "execution_count": 18
        }
      ]
    }
  ]
}